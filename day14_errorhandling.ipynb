{
 "cells": [
  {
   "cell_type": "code",
   "execution_count": 7,
   "metadata": {},
   "outputs": [
    {
     "name": "stdout",
     "output_type": "stream",
     "text": [
      "some problem\n"
     ]
    }
   ],
   "source": [
    "try:\n",
    "    #want to attempt this code\n",
    "    #may have an error\n",
    "    result=10 + \"10\"\n",
    "except:\n",
    "    print(\"some problem\")\n",
    "else:\n",
    "    print(\"no problem and result is {}\".format(result))"
   ]
  },
  {
   "cell_type": "code",
   "execution_count": 9,
   "metadata": {},
   "outputs": [
    {
     "name": "stdout",
     "output_type": "stream",
     "text": [
      "no problem and result is 20\n"
     ]
    }
   ],
   "source": [
    "try:\n",
    "    result = 10 + 10\n",
    "except:\n",
    "    print(\"some problem\")\n",
    "else:\n",
    "    print(\"no problem and result is {}\".format(result))"
   ]
  },
  {
   "cell_type": "code",
   "execution_count": 11,
   "metadata": {},
   "outputs": [
    {
     "name": "stdout",
     "output_type": "stream",
     "text": [
      "Writing myfile.txt\n"
     ]
    }
   ],
   "source": [
    "%%writefile myfile.txt\n",
    "\"hello\"\n",
    "\"hi\""
   ]
  },
  {
   "cell_type": "code",
   "execution_count": 13,
   "metadata": {},
   "outputs": [
    {
     "name": "stdout",
     "output_type": "stream",
     "text": [
      "\"hello\"\n",
      "\"hi\"\n",
      "\n"
     ]
    }
   ],
   "source": [
    "with open(\"myfile.txt\",mode=\"r\") as f:\n",
    "    print(f.read())"
   ]
  },
  {
   "cell_type": "code",
   "execution_count": 15,
   "metadata": {},
   "outputs": [
    {
     "name": "stdout",
     "output_type": "stream",
     "text": [
      "all good\n"
     ]
    }
   ],
   "source": [
    "try:\n",
    "    f=open(\"myfile.txt\",mode=\"w\")\n",
    "    f.write('hi1')\n",
    "except:\n",
    "    print(\"some problem\")\n",
    "else:\n",
    "    print(\"all good\")"
   ]
  },
  {
   "cell_type": "code",
   "execution_count": 16,
   "metadata": {},
   "outputs": [
    {
     "name": "stdout",
     "output_type": "stream",
     "text": [
      "some problem related to OS\n"
     ]
    }
   ],
   "source": [
    "try:\n",
    "    f=open(\"myfile.txt\",mode=\"r\")\n",
    "    f.write('hi1')\n",
    "except TypeError:\n",
    "    print(\"some problem related to type\")\n",
    "except OSError:\n",
    "    print(\"some problem related to OS\")\n",
    "else:\n",
    "    print(\"all good\")"
   ]
  },
  {
   "cell_type": "code",
   "execution_count": 17,
   "metadata": {},
   "outputs": [
    {
     "name": "stdout",
     "output_type": "stream",
     "text": [
      "some problem related to type\n"
     ]
    }
   ],
   "source": [
    "try:\n",
    "    #want to attempt this code\n",
    "    #may have an error\n",
    "    result=10 + \"10\"\n",
    "except TypeError:\n",
    "    print(\"some problem related to type\")\n",
    "except OSError:\n",
    "    print(\"some problem related to OS\")\n",
    "else:\n",
    "    print(\"no problem and result is {}\".format(result))"
   ]
  },
  {
   "cell_type": "code",
   "execution_count": 19,
   "metadata": {},
   "outputs": [
    {
     "name": "stdout",
     "output_type": "stream",
     "text": [
      "some problem related to OS\n"
     ]
    }
   ],
   "source": [
    "try:\n",
    "    f=open(\"2ndfile.txt\",mode=\"r\")\n",
    "    f.write(\"hiii\")\n",
    "except TypeError:\n",
    "    print(\"some problem related to typing\")\n",
    "except OSError:\n",
    "    print(\"some problem related to OS\")\n",
    "else:\n",
    "    print(\"writing process is done\")"
   ]
  },
  {
   "cell_type": "code",
   "execution_count": null,
   "metadata": {},
   "outputs": [],
   "source": []
  }
 ],
 "metadata": {
  "kernelspec": {
   "display_name": "Python 3",
   "language": "python",
   "name": "python3"
  },
  "language_info": {
   "codemirror_mode": {
    "name": "ipython",
    "version": 3
   },
   "file_extension": ".py",
   "mimetype": "text/x-python",
   "name": "python",
   "nbconvert_exporter": "python",
   "pygments_lexer": "ipython3",
   "version": "3.7.1"
  }
 },
 "nbformat": 4,
 "nbformat_minor": 2
}
