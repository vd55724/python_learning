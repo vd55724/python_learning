{
 "cells": [
  {
   "cell_type": "code",
   "execution_count": 23,
   "metadata": {},
   "outputs": [],
   "source": [
    "#find the factorial of a number\n",
    "def check_factorial(number):\n",
    "    factorial=1\n",
    "    if number<0:\n",
    "        return \"invalid number\"\n",
    "    else:\n",
    "        for i in range(1,number+1):\n",
    "            factorial=factorial*i\n",
    "\n",
    "    return factorial"
   ]
  },
  {
   "cell_type": "code",
   "execution_count": 26,
   "metadata": {},
   "outputs": [
    {
     "data": {
      "text/plain": [
       "1"
      ]
     },
     "execution_count": 26,
     "metadata": {},
     "output_type": "execute_result"
    }
   ],
   "source": [
    "check_factorial(0)"
   ]
  },
  {
   "cell_type": "code",
   "execution_count": 27,
   "metadata": {},
   "outputs": [
    {
     "name": "stdout",
     "output_type": "stream",
     "text": [
      "37.77777777777778\n"
     ]
    }
   ],
   "source": [
    "#faranhiet to celcius (fahrenheit - 32) * 5 / 9\n",
    "fahrenhiet=100\n",
    "celcius=(fahrenhiet-32) * 5 / 9\n",
    "print(celcius)\n"
   ]
  },
  {
   "cell_type": "code",
   "execution_count": 38,
   "metadata": {},
   "outputs": [],
   "source": [
    "#Given a list of positive numbers, return the largest number on the list.\n",
    "def find_max(my_list):\n",
    "    if len(my_list)==1:\n",
    "        return my_list[0]\n",
    "    else:\n",
    "        max=0\n",
    "        for item in my_list:\n",
    "            itemtype=type(my_list)\n",
    "            if itemtype != int:\n",
    "                return \"this item {} is not integer\".format(item)\n",
    "            if item>max:\n",
    "                max=item\n",
    "    return max\n"
   ]
  },
  {
   "cell_type": "code",
   "execution_count": 39,
   "metadata": {},
   "outputs": [
    {
     "data": {
      "text/plain": [
       "'this item w is not integer'"
      ]
     },
     "execution_count": 39,
     "metadata": {},
     "output_type": "execute_result"
    }
   ],
   "source": [
    "find_max([\"w\",\"v\",1,2,3,4,5])"
   ]
  },
  {
   "cell_type": "code",
   "execution_count": 58,
   "metadata": {},
   "outputs": [],
   "source": [
    "def check_palindrome(num):\n",
    "    #while n>0\n",
    "    string = \"\".join(reversed(num))\n",
    "    print(\"a\".join(reversed(num)))\n",
    "    print(\"bcd\".join(reversed(num)))\n",
    "    if string==num:\n",
    "        return \"its palindrome\"\n",
    "    else:\n",
    "        return \"its not palindrome\""
   ]
  },
  {
   "cell_type": "code",
   "execution_count": 59,
   "metadata": {},
   "outputs": [
    {
     "name": "stdout",
     "output_type": "stream",
     "text": [
      "4a5a4\n",
      "4bcd5bcd4\n"
     ]
    },
    {
     "data": {
      "text/plain": [
       "'its palindrome'"
      ]
     },
     "execution_count": 59,
     "metadata": {},
     "output_type": "execute_result"
    }
   ],
   "source": [
    "check_palindrome('454')"
   ]
  },
  {
   "cell_type": "code",
   "execution_count": 7,
   "metadata": {},
   "outputs": [
    {
     "ename": "SyntaxError",
     "evalue": "can't assign to literal (<ipython-input-7-249d6fdf11c0>, line 4)",
     "output_type": "error",
     "traceback": [
      "\u001b[1;36m  File \u001b[1;32m\"<ipython-input-7-249d6fdf11c0>\"\u001b[1;36m, line \u001b[1;32m4\u001b[0m\n\u001b[1;33m    a=0,b=0\u001b[0m\n\u001b[1;37m     ^\u001b[0m\n\u001b[1;31mSyntaxError\u001b[0m\u001b[1;31m:\u001b[0m can't assign to literal\n"
     ]
    }
   ],
   "source": [
    "def check_palindrome(num):\n",
    "    n=num\n",
    "    rev=0\n",
    "    while n>0:\n",
    "        r=n%10\n",
    "        rev=rev*10+r\n",
    "        n=int(n/10)\n",
    "    if rev==num:\n",
    "        return \"its palindrome\"\n",
    "    else:\n",
    "        return \"its not palindrome\"\n",
    "        "
   ]
  },
  {
   "cell_type": "code",
   "execution_count": 6,
   "metadata": {},
   "outputs": [
    {
     "data": {
      "text/plain": [
       "'its palindrome'"
      ]
     },
     "execution_count": 6,
     "metadata": {},
     "output_type": "execute_result"
    }
   ],
   "source": [
    "check_palindrome(454)"
   ]
  },
  {
   "cell_type": "code",
   "execution_count": null,
   "metadata": {},
   "outputs": [],
   "source": []
  }
 ],
 "metadata": {
  "kernelspec": {
   "display_name": "Python 3",
   "language": "python",
   "name": "python3"
  },
  "language_info": {
   "codemirror_mode": {
    "name": "ipython",
    "version": 3
   },
   "file_extension": ".py",
   "mimetype": "text/x-python",
   "name": "python",
   "nbconvert_exporter": "python",
   "pygments_lexer": "ipython3",
   "version": "3.7.1"
  }
 },
 "nbformat": 4,
 "nbformat_minor": 2
}
