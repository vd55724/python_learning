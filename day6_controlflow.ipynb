{
 "cells": [
  {
   "cell_type": "code",
   "execution_count": 4,
   "metadata": {},
   "outputs": [
    {
     "name": "stdout",
     "output_type": "stream",
     "text": [
      "1\n",
      "2\n"
     ]
    }
   ],
   "source": [
    "x=2\n",
    "if x==2:\n",
    "    print(\"1\")\n",
    "    print(\"2\")"
   ]
  },
  {
   "cell_type": "code",
   "execution_count": 5,
   "metadata": {},
   "outputs": [
    {
     "name": "stdout",
     "output_type": "stream",
     "text": [
      "3\n"
     ]
    }
   ],
   "source": [
    "x=3\n",
    "if x==2:\n",
    "    print(\"1\")\n",
    "    print(\"2\")\n",
    "    \n",
    "print(\"3\")"
   ]
  },
  {
   "cell_type": "code",
   "execution_count": 6,
   "metadata": {},
   "outputs": [
    {
     "name": "stdout",
     "output_type": "stream",
     "text": [
      "not 1\n",
      "not 2\n",
      "3\n"
     ]
    }
   ],
   "source": [
    "x=3\n",
    "if x==2:\n",
    "    print(\"1\")\n",
    "    print(\"2\")\n",
    "else:\n",
    "    print(\"not 1\")\n",
    "    print(\"not 2\")\n",
    "    \n",
    "print(\"3\")"
   ]
  },
  {
   "cell_type": "code",
   "execution_count": 12,
   "metadata": {},
   "outputs": [
    {
     "name": "stdout",
     "output_type": "stream",
     "text": [
      "less then 5\n"
     ]
    }
   ],
   "source": [
    "c=4\n",
    "if c==5:\n",
    "    print(\"true\")\n",
    "elif c>5:\n",
    "    print(\"great then 5\")\n",
    "else:\n",
    "    print(\"less then 5\")"
   ]
  },
  {
   "cell_type": "code",
   "execution_count": null,
   "metadata": {},
   "outputs": [],
   "source": []
  }
 ],
 "metadata": {
  "kernelspec": {
   "display_name": "Python 3",
   "language": "python",
   "name": "python3"
  },
  "language_info": {
   "codemirror_mode": {
    "name": "ipython",
    "version": 3
   },
   "file_extension": ".py",
   "mimetype": "text/x-python",
   "name": "python",
   "nbconvert_exporter": "python",
   "pygments_lexer": "ipython3",
   "version": "3.7.1"
  }
 },
 "nbformat": 4,
 "nbformat_minor": 2
}
