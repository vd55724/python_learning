{
 "cells": [
  {
   "cell_type": "code",
   "execution_count": 16,
   "metadata": {},
   "outputs": [
    {
     "ename": "SyntaxError",
     "evalue": "invalid syntax (<ipython-input-16-0b3e2a798f16>, line 2)",
     "output_type": "error",
     "traceback": [
      "\u001b[1;36m  File \u001b[1;32m\"<ipython-input-16-0b3e2a798f16>\"\u001b[1;36m, line \u001b[1;32m2\u001b[0m\n\u001b[1;33m    static number_of_legs = 2\u001b[0m\n\u001b[1;37m                        ^\u001b[0m\n\u001b[1;31mSyntaxError\u001b[0m\u001b[1;31m:\u001b[0m invalid syntax\n"
     ]
    }
   ],
   "source": [
    "class Person():\n",
    "    number_of_legs = 2\n",
    "    def __init__(self, parameter1,age):\n",
    "        self.parameter1 = parameter1\n",
    "        self.age=age\n",
    "    def some_method(self):\n",
    "        print(\"this is a class person's method\")\n",
    "        \n",
    "    def getPersonInfo(self):\n",
    "        return self.parameter1 + \" \" + self.age "
   ]
  },
  {
   "cell_type": "code",
   "execution_count": 17,
   "metadata": {},
   "outputs": [
    {
     "name": "stdout",
     "output_type": "stream",
     "text": [
      "vishal\n",
      "vishal 22\n",
      "2\n",
      "3\n"
     ]
    }
   ],
   "source": [
    "p = Person(parameter1 = \"vishal\",age = \"22\")\n",
    "print(p.parameter1)\n",
    "print(p.getPersonInfo())\n",
    "print(p.number_of_legs)\n",
    "p.number_of_legs = 3\n",
    "print(p.number_of_legs)"
   ]
  },
  {
   "cell_type": "code",
   "execution_count": 10,
   "metadata": {},
   "outputs": [
    {
     "name": "stdout",
     "output_type": "stream",
     "text": [
      "dixit\n",
      "dixit 22\n"
     ]
    }
   ],
   "source": [
    "p1=Person(parameter1=\"dixit\",age = \"22\")\n",
    "print(p1.parameter1)\n",
    "print(p1.getPersonInfo())"
   ]
  },
  {
   "cell_type": "code",
   "execution_count": 5,
   "metadata": {},
   "outputs": [
    {
     "name": "stdout",
     "output_type": "stream",
     "text": [
      "this is a class person's method\n"
     ]
    }
   ],
   "source": [
    "p.some_method()"
   ]
  },
  {
   "cell_type": "code",
   "execution_count": 18,
   "metadata": {},
   "outputs": [
    {
     "name": "stdout",
     "output_type": "stream",
     "text": [
      "anand\n",
      "anand\n"
     ]
    }
   ],
   "source": [
    "p2=Person(parameter1=\"vish\",age = \"22\")\n",
    "p3=p2\n",
    "p3.parameter1=\"anand\"\n",
    "p3.age=\"28\"\n",
    "print(p2.parameter1)\n",
    "print(p3.parameter1)"
   ]
  },
  {
   "cell_type": "code",
   "execution_count": null,
   "metadata": {},
   "outputs": [],
   "source": [
    "#pass by value is also known as deep copy\n",
    "#pass by reference is also known as shallow copy"
   ]
  },
  {
   "cell_type": "code",
   "execution_count": 22,
   "metadata": {},
   "outputs": [],
   "source": [
    "class A():\n",
    "    def __init__(self):\n",
    "        print(\"A is intialized\")\n",
    "    \n",
    "    def m1(self):\n",
    "        print(\"this is class A's m1 method\")\n",
    "        \n",
    "    def m2(self):\n",
    "        print(\"this is class A's m2 method\")\n",
    "    "
   ]
  },
  {
   "cell_type": "code",
   "execution_count": 23,
   "metadata": {},
   "outputs": [],
   "source": [
    "class B(A):\n",
    "    def __init__(self):\n",
    "        print(\"B is intialized\")\n",
    "    \n",
    "    def m1(self):\n",
    "        print(\"this is class B's m1 method\")\n",
    "        \n",
    "    def m2(self):\n",
    "        print(\"this is class B's m2 method\")\n",
    "    \n",
    "    "
   ]
  },
  {
   "cell_type": "code",
   "execution_count": 24,
   "metadata": {},
   "outputs": [
    {
     "name": "stdout",
     "output_type": "stream",
     "text": [
      "B is intialized\n",
      "this is class B's m1 method\n",
      "this is class A's m2 method\n"
     ]
    }
   ],
   "source": [
    "b=B()\n",
    "b.m1()\n",
    "b.m2()"
   ]
  },
  {
   "cell_type": "code",
   "execution_count": null,
   "metadata": {},
   "outputs": [],
   "source": []
  }
 ],
 "metadata": {
  "kernelspec": {
   "display_name": "Python 3",
   "language": "python",
   "name": "python3"
  },
  "language_info": {
   "codemirror_mode": {
    "name": "ipython",
    "version": 3
   },
   "file_extension": ".py",
   "mimetype": "text/x-python",
   "name": "python",
   "nbconvert_exporter": "python",
   "pygments_lexer": "ipython3",
   "version": "3.7.1"
  }
 },
 "nbformat": 4,
 "nbformat_minor": 2
}
