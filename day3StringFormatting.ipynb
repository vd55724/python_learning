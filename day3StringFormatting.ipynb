{
 "cells": [
  {
   "cell_type": "code",
   "execution_count": 1,
   "metadata": {},
   "outputs": [
    {
     "name": "stdout",
     "output_type": "stream",
     "text": [
      "the fox brown quick\n"
     ]
    }
   ],
   "source": [
    "print(\"the fox brown quick\")"
   ]
  },
  {
   "cell_type": "code",
   "execution_count": 2,
   "metadata": {},
   "outputs": [
    {
     "name": "stdout",
     "output_type": "stream",
     "text": [
      "the ox brown quick\n"
     ]
    }
   ],
   "source": [
    "print(\"the {} brown quick\".format(\"ox\"))"
   ]
  },
  {
   "cell_type": "code",
   "execution_count": 4,
   "metadata": {},
   "outputs": [
    {
     "name": "stdout",
     "output_type": "stream",
     "text": [
      "the ox blue quick\n"
     ]
    }
   ],
   "source": [
    "print(\"the {} {} quick\".format(\"ox\", \"blue\"))"
   ]
  },
  {
   "cell_type": "code",
   "execution_count": 5,
   "metadata": {},
   "outputs": [
    {
     "name": "stdout",
     "output_type": "stream",
     "text": [
      "the ox is blue\n"
     ]
    }
   ],
   "source": [
    "x=\"ox\"\n",
    "y=\"blue\"\n",
    "z=\"the {} is {}\".format(x,y)\n",
    "print(z)"
   ]
  },
  {
   "cell_type": "code",
   "execution_count": 8,
   "metadata": {},
   "outputs": [
    {
     "name": "stdout",
     "output_type": "stream",
     "text": [
      "the amount of your order is $ 2500\n"
     ]
    }
   ],
   "source": [
    "t=\"2500\"\n",
    "u=\"$\"\n",
    "r=\"the amount of your order is {} {}\".format(u,t)\n",
    "print(r)"
   ]
  },
  {
   "cell_type": "code",
   "execution_count": 20,
   "metadata": {},
   "outputs": [
    {
     "name": "stdout",
     "output_type": "stream",
     "text": [
      "the amount of your order is $ 2500 thanks\n"
     ]
    }
   ],
   "source": [
    "\n",
    "# string formating method with curly braces and indexes\n",
    "\n",
    "t=\"2500\"\n",
    "u=\"$\"\n",
    "r=\"the amount of your order is {0} {1} {2}\".format(\"$\",\"2500\",\"thanks\")\n",
    "print(r)"
   ]
  },
  {
   "cell_type": "code",
   "execution_count": 22,
   "metadata": {},
   "outputs": [
    {
     "name": "stdout",
     "output_type": "stream",
     "text": [
      "the amount of your order is rupees 3500\n"
     ]
    }
   ],
   "source": [
    "\n",
    "r=\"the amount of your order is {a} {b}\".format(a=\"rupees\",b=\"3500\")\n",
    "print(r)"
   ]
  },
  {
   "cell_type": "code",
   "execution_count": 31,
   "metadata": {},
   "outputs": [
    {
     "name": "stdout",
     "output_type": "stream",
     "text": [
      "ITS TOO COLD IN SOUTH INDIA\n"
     ]
    }
   ],
   "source": [
    "w=\"its too cold in {} {}\".format(\"south\",\"india\")\n",
    "x1=w.upper()\n",
    "print(x1)"
   ]
  },
  {
   "cell_type": "code",
   "execution_count": 32,
   "metadata": {},
   "outputs": [
    {
     "name": "stdout",
     "output_type": "stream",
     "text": [
      "['ITS', 'TOO', 'COLD', 'IN', 'SOUTH', 'INDIA']\n"
     ]
    }
   ],
   "source": [
    "w=\"its too cold in {} {}\".format(\"south\",\"india\")\n",
    "x1=w.upper()\n",
    "x2=x1.split()\n",
    "print(x2)"
   ]
  },
  {
   "cell_type": "code",
   "execution_count": 34,
   "metadata": {},
   "outputs": [
    {
     "name": "stdout",
     "output_type": "stream",
     "text": [
      "['', 'TS TOO COLD ', 'N SOUTH ', 'ND', 'A']\n"
     ]
    }
   ],
   "source": [
    "w=\"its too cold in {} {}\".format(\"south\",\"india\")\n",
    "x1=w.upper()\n",
    "x2=x1.split(\"I\")\n",
    "print(x2)"
   ]
  },
  {
   "cell_type": "code",
   "execution_count": 35,
   "metadata": {},
   "outputs": [
    {
     "name": "stdout",
     "output_type": "stream",
     "text": [
      "['th', 's ', 's a str', 'ng']\n"
     ]
    }
   ],
   "source": [
    "x3=\"this is a string\"\n",
    "x4=x3.split(\"i\")\n",
    "print(x4)"
   ]
  },
  {
   "cell_type": "code",
   "execution_count": 36,
   "metadata": {},
   "outputs": [
    {
     "name": "stdout",
     "output_type": "stream",
     "text": [
      "['', 'th', 's ', 's a str', 'ng']\n"
     ]
    }
   ],
   "source": [
    "x3=\"ithis is a string\"\n",
    "x4=x3.split(\"i\")\n",
    "print(x4)"
   ]
  },
  {
   "cell_type": "code",
   "execution_count": 39,
   "metadata": {},
   "outputs": [
    {
     "name": "stdout",
     "output_type": "stream",
     "text": [
      "result is 0.1287001287001287\n"
     ]
    }
   ],
   "source": [
    "x=100\n",
    "y=777\n",
    "result=x/y\n",
    "print(\"result is {}\".format(result))"
   ]
  },
  {
   "cell_type": "code",
   "execution_count": 3,
   "metadata": {},
   "outputs": [
    {
     "name": "stdout",
     "output_type": "stream",
     "text": [
      "0.1287001\n"
     ]
    }
   ],
   "source": [
    "x=100\n",
    "y=777\n",
    "result=x/y\n",
    "print(format(result,\".7f\"))\n"
   ]
  },
  {
   "cell_type": "code",
   "execution_count": 5,
   "metadata": {},
   "outputs": [
    {
     "name": "stdout",
     "output_type": "stream",
     "text": [
      "result is 0.13\n"
     ]
    }
   ],
   "source": [
    "x=100\n",
    "y=777\n",
    "result=x/y\n",
    "print(\"result is %.2f\" %(result))"
   ]
  },
  {
   "cell_type": "code",
   "execution_count": 6,
   "metadata": {},
   "outputs": [
    {
     "name": "stdout",
     "output_type": "stream",
     "text": [
      "amount is 2 dollar\n"
     ]
    }
   ],
   "source": [
    "print('amount is %d %s' %(2,\"dollar\"))"
   ]
  },
  {
   "cell_type": "code",
   "execution_count": 7,
   "metadata": {},
   "outputs": [
    {
     "name": "stdout",
     "output_type": "stream",
     "text": [
      "amount is 2.00 dollar\n"
     ]
    }
   ],
   "source": [
    "print(\"amount is %.2f %s\" %(2,\"dollar\"))"
   ]
  },
  {
   "cell_type": "code",
   "execution_count": null,
   "metadata": {},
   "outputs": [],
   "source": []
  }
 ],
 "metadata": {
  "kernelspec": {
   "display_name": "Python 3",
   "language": "python",
   "name": "python3"
  },
  "language_info": {
   "codemirror_mode": {
    "name": "ipython",
    "version": 3
   },
   "file_extension": ".py",
   "mimetype": "text/x-python",
   "name": "python",
   "nbconvert_exporter": "python",
   "pygments_lexer": "ipython3",
   "version": "3.7.1"
  }
 },
 "nbformat": 4,
 "nbformat_minor": 2
}
